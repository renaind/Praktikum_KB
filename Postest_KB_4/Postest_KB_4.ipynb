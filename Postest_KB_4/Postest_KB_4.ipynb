{
 "cells": [
  {
   "cell_type": "code",
   "execution_count": 1,
   "id": "29d6c463",
   "metadata": {},
   "outputs": [],
   "source": [
    "import pandas as pd\n",
    "import numpy as np\n",
    "import sklearn as sk\n",
    "import matplotlib.pyplot as plt\n",
    "import seaborn as sns"
   ]
  },
  {
   "cell_type": "code",
   "execution_count": 2,
   "id": "beb0f141",
   "metadata": {},
   "outputs": [
    {
     "data": {
      "text/html": [
       "<div>\n",
       "<style scoped>\n",
       "    .dataframe tbody tr th:only-of-type {\n",
       "        vertical-align: middle;\n",
       "    }\n",
       "\n",
       "    .dataframe tbody tr th {\n",
       "        vertical-align: top;\n",
       "    }\n",
       "\n",
       "    .dataframe thead th {\n",
       "        text-align: right;\n",
       "    }\n",
       "</style>\n",
       "<table border=\"1\" class=\"dataframe\">\n",
       "  <thead>\n",
       "    <tr style=\"text-align: right;\">\n",
       "      <th></th>\n",
       "      <th>ranking dunia</th>\n",
       "      <th>universitas</th>\n",
       "      <th>ranking nasional</th>\n",
       "      <th>total skor</th>\n",
       "      <th>alumni</th>\n",
       "      <th>penghargaan</th>\n",
       "      <th>hici</th>\n",
       "      <th>ns</th>\n",
       "      <th>pub</th>\n",
       "      <th>pcp</th>\n",
       "      <th>tahun</th>\n",
       "    </tr>\n",
       "  </thead>\n",
       "  <tbody>\n",
       "    <tr>\n",
       "      <th>0</th>\n",
       "      <td>1</td>\n",
       "      <td>Harvard University</td>\n",
       "      <td>1</td>\n",
       "      <td>100.0</td>\n",
       "      <td>100.0</td>\n",
       "      <td>100.0</td>\n",
       "      <td>100.0</td>\n",
       "      <td>100.0</td>\n",
       "      <td>100.0</td>\n",
       "      <td>72.4</td>\n",
       "      <td>2005</td>\n",
       "    </tr>\n",
       "    <tr>\n",
       "      <th>1</th>\n",
       "      <td>2</td>\n",
       "      <td>University of Cambridge</td>\n",
       "      <td>1</td>\n",
       "      <td>73.6</td>\n",
       "      <td>99.8</td>\n",
       "      <td>93.4</td>\n",
       "      <td>53.3</td>\n",
       "      <td>56.6</td>\n",
       "      <td>70.9</td>\n",
       "      <td>66.9</td>\n",
       "      <td>2005</td>\n",
       "    </tr>\n",
       "    <tr>\n",
       "      <th>2</th>\n",
       "      <td>3</td>\n",
       "      <td>Stanford University</td>\n",
       "      <td>2</td>\n",
       "      <td>73.4</td>\n",
       "      <td>41.1</td>\n",
       "      <td>72.2</td>\n",
       "      <td>88.5</td>\n",
       "      <td>70.9</td>\n",
       "      <td>72.3</td>\n",
       "      <td>65.0</td>\n",
       "      <td>2005</td>\n",
       "    </tr>\n",
       "    <tr>\n",
       "      <th>3</th>\n",
       "      <td>4</td>\n",
       "      <td>University of California, Berkeley</td>\n",
       "      <td>3</td>\n",
       "      <td>72.8</td>\n",
       "      <td>71.8</td>\n",
       "      <td>76.0</td>\n",
       "      <td>69.4</td>\n",
       "      <td>73.9</td>\n",
       "      <td>72.2</td>\n",
       "      <td>52.7</td>\n",
       "      <td>2005</td>\n",
       "    </tr>\n",
       "    <tr>\n",
       "      <th>4</th>\n",
       "      <td>5</td>\n",
       "      <td>Massachusetts Institute of Technology (MIT)</td>\n",
       "      <td>4</td>\n",
       "      <td>70.1</td>\n",
       "      <td>74.0</td>\n",
       "      <td>80.6</td>\n",
       "      <td>66.7</td>\n",
       "      <td>65.8</td>\n",
       "      <td>64.3</td>\n",
       "      <td>53.0</td>\n",
       "      <td>2005</td>\n",
       "    </tr>\n",
       "  </tbody>\n",
       "</table>\n",
       "</div>"
      ],
      "text/plain": [
       "  ranking dunia                                  universitas ranking nasional  \\\n",
       "0             1                           Harvard University                1   \n",
       "1             2                      University of Cambridge                1   \n",
       "2             3                          Stanford University                2   \n",
       "3             4           University of California, Berkeley                3   \n",
       "4             5  Massachusetts Institute of Technology (MIT)                4   \n",
       "\n",
       "   total skor  alumni  penghargaan   hici     ns    pub   pcp  tahun  \n",
       "0       100.0   100.0        100.0  100.0  100.0  100.0  72.4   2005  \n",
       "1        73.6    99.8         93.4   53.3   56.6   70.9  66.9   2005  \n",
       "2        73.4    41.1         72.2   88.5   70.9   72.3  65.0   2005  \n",
       "3        72.8    71.8         76.0   69.4   73.9   72.2  52.7   2005  \n",
       "4        70.1    74.0         80.6   66.7   65.8   64.3  53.0   2005  "
      ]
     },
     "execution_count": 2,
     "metadata": {},
     "output_type": "execute_result"
    }
   ],
   "source": [
    "data = pd.read_csv('shanghaiData.csv')\n",
    "data = data.rename(columns={'world_rank':'ranking dunia', 'university_name':'universitas', 'national_rank':'ranking nasional', 'total_score':'total skor', 'award':'penghargaan', 'year':'tahun'})\n",
    "data.head()"
   ]
  },
  {
   "cell_type": "code",
   "execution_count": 3,
   "id": "410ea0c4",
   "metadata": {},
   "outputs": [
    {
     "name": "stdout",
     "output_type": "stream",
     "text": [
      "<class 'pandas.core.frame.DataFrame'>\n",
      "RangeIndex: 4897 entries, 0 to 4896\n",
      "Data columns (total 11 columns):\n",
      " #   Column            Non-Null Count  Dtype  \n",
      "---  ------            --------------  -----  \n",
      " 0   ranking dunia     4897 non-null   object \n",
      " 1   universitas       4896 non-null   object \n",
      " 2   ranking nasional  4896 non-null   object \n",
      " 3   total skor        1101 non-null   float64\n",
      " 4   alumni            4896 non-null   float64\n",
      " 5   penghargaan       4895 non-null   float64\n",
      " 6   hici              4895 non-null   float64\n",
      " 7   ns                4875 non-null   float64\n",
      " 8   pub               4895 non-null   float64\n",
      " 9   pcp               4895 non-null   float64\n",
      " 10  tahun             4897 non-null   int64  \n",
      "dtypes: float64(7), int64(1), object(3)\n",
      "memory usage: 421.0+ KB\n"
     ]
    }
   ],
   "source": [
    "data.info()"
   ]
  },
  {
   "cell_type": "markdown",
   "id": "06d152c5",
   "metadata": {},
   "source": [
    "#### Membagi Dataset Menjadi Training Test & Testing Test"
   ]
  },
  {
   "cell_type": "code",
   "execution_count": 4,
   "id": "7d532010",
   "metadata": {},
   "outputs": [],
   "source": [
    "from sklearn.model_selection import train_test_split"
   ]
  },
  {
   "cell_type": "code",
   "execution_count": 5,
   "id": "f72c0856",
   "metadata": {},
   "outputs": [],
   "source": [
    "x = data[['alumni']]\n",
    "y = data[['penghargaan']]\n",
    "x_train, x_test, y_train, y_test = train_test_split(x, y, test_size=.3)"
   ]
  },
  {
   "cell_type": "code",
   "execution_count": 6,
   "id": "05f86e31",
   "metadata": {},
   "outputs": [
    {
     "name": "stdout",
     "output_type": "stream",
     "text": [
      "Dimensi x_train :  (3427, 1)\n",
      "Dimensi x_train :  (1470, 1)\n",
      "Dimensi y_train :  (3427, 1)\n",
      "Dimensi y_test  :  (1470, 1)\n"
     ]
    }
   ],
   "source": [
    "print(\"Dimensi x_train : \", x_train.shape)\n",
    "print(\"Dimensi x_train : \", x_test.shape)\n",
    "print(\"Dimensi y_train : \", y_train.shape)\n",
    "print(\"Dimensi y_test  : \", y_test.shape)"
   ]
  },
  {
   "cell_type": "markdown",
   "id": "67e5bd8c",
   "metadata": {},
   "source": [
    "#### Normalisasi Data"
   ]
  },
  {
   "cell_type": "code",
   "execution_count": 7,
   "id": "10ae056f",
   "metadata": {},
   "outputs": [
    {
     "name": "stdout",
     "output_type": "stream",
     "text": [
      "0       1.000\n",
      "1       0.533\n",
      "2       0.885\n",
      "3       0.694\n",
      "4       0.667\n",
      "        ...  \n",
      "4892    0.050\n",
      "4893    0.076\n",
      "4894    0.036\n",
      "4895    0.000\n",
      "4896    0.149\n",
      "Name: hici, Length: 4897, dtype: float64\n",
      "0       1.000\n",
      "1       0.566\n",
      "2       0.709\n",
      "3       0.739\n",
      "4       0.658\n",
      "        ...  \n",
      "4892    0.109\n",
      "4893    0.051\n",
      "4894    0.108\n",
      "4895    0.122\n",
      "4896    0.075\n",
      "Name: ns, Length: 4897, dtype: float64\n"
     ]
    }
   ],
   "source": [
    "data_normalisasi = data.copy()\n",
    "data_normalisasi['hici'] = (data_normalisasi['hici'] - data_normalisasi['hici'].min()) / (data_normalisasi['hici'].max() - data_normalisasi['hici'].min())\n",
    "data_normalisasi['ns']   = (data_normalisasi['ns'] - data_normalisasi['ns'].min()) / (data_normalisasi['ns'].max() - data_normalisasi['ns'].min())\n",
    "print(data_normalisasi['hici'])\n",
    "print(data_normalisasi['ns'])"
   ]
  },
  {
   "cell_type": "markdown",
   "id": "f43dff2d",
   "metadata": {},
   "source": [
    "#### Standarisasi Data"
   ]
  },
  {
   "cell_type": "code",
   "execution_count": 8,
   "id": "8d8e3de4",
   "metadata": {},
   "outputs": [],
   "source": [
    "data_standarisasi = data.copy()\n",
    "data_standarisasi.drop('ranking dunia', axis = 1, inplace= True)\n",
    "data_standarisasi.drop('universitas', axis = 1, inplace= True)\n",
    "data_standarisasi.drop('ranking nasional', axis = 1, inplace= True)"
   ]
  },
  {
   "cell_type": "code",
   "execution_count": 9,
   "id": "a3b93555",
   "metadata": {},
   "outputs": [],
   "source": [
    "from sklearn.preprocessing import StandardScaler"
   ]
  },
  {
   "cell_type": "code",
   "execution_count": 10,
   "id": "5be557af",
   "metadata": {},
   "outputs": [
    {
     "name": "stdout",
     "output_type": "stream",
     "text": [
      "Nilai data sebelum standarisasi : \n",
      "  ranking dunia                         universitas ranking nasional  \\\n",
      "0             1                  Harvard University                1   \n",
      "1             2             University of Cambridge                1   \n",
      "2             3                 Stanford University                2   \n",
      "3             4  University of California, Berkeley                3   \n",
      "\n",
      "   total skor  alumni  penghargaan   hici     ns    pub   pcp  tahun  \n",
      "0       100.0   100.0        100.0  100.0  100.0  100.0  72.4   2005  \n",
      "1        73.6    99.8         93.4   53.3   56.6   70.9  66.9   2005  \n",
      "2        73.4    41.1         72.2   88.5   70.9   72.3  65.0   2005  \n",
      "3        72.8    71.8         76.0   69.4   73.9   72.2  52.7   2005  \n",
      "Nilai standar deviasi :  total skor     13.551028\n",
      "alumni         14.139192\n",
      "penghargaan    15.492527\n",
      "hici           14.381240\n",
      "ns             12.510246\n",
      "pub            13.049475\n",
      "pcp             9.253406\n",
      "tahun           3.197250\n",
      "dtype: float64\n",
      "Nilai data setelah standarisasi : \n",
      "[[ 4.69459081  6.4245733   5.95823311 ...  4.73163485  5.52852337\n",
      "  -1.45705428]\n",
      " [ 2.7463991   6.41042822  5.53222127 ...  2.50166014  4.93414763\n",
      "  -1.45705428]\n",
      " [ 2.73164007  2.25884731  4.16381963 ...  2.60894415  4.72881783\n",
      "  -1.45705428]\n",
      " ...\n",
      " [        nan  0.31389885 -0.49649162 ... -1.0080595  -0.62056382\n",
      "   1.67063379]\n",
      " [        nan -0.64796657 -0.49649162 ... -0.7245232   0.17914172\n",
      "   1.67063379]\n",
      " [        nan -0.64796657 -0.49649162 ... -1.01572264 -1.00960975\n",
      "   1.67063379]]\n",
      "Nilai standar deviasi :  nan\n"
     ]
    },
    {
     "name": "stderr",
     "output_type": "stream",
     "text": [
      "C:\\Users\\LENOVO\\AppData\\Local\\Programs\\Python\\Python310\\lib\\site-packages\\numpy\\core\\fromnumeric.py:3579: FutureWarning: Dropping of nuisance columns in DataFrame reductions (with 'numeric_only=None') is deprecated; in a future version this will raise TypeError.  Select only valid columns before calling the reduction.\n",
      "  return std(axis=axis, dtype=dtype, out=out, ddof=ddof, **kwargs)\n"
     ]
    }
   ],
   "source": [
    "scaler = StandardScaler()\n",
    "scale_data = scaler.fit_transform(data_standarisasi)\n",
    "print(\"Nilai data sebelum standarisasi : \")\n",
    "print(data[0:4])\n",
    "print(\"Nilai standar deviasi : \", np.std(data))\n",
    "print(\"Nilai data setelah standarisasi : \")\n",
    "print(scale_data)\n",
    "print(\"Nilai standar deviasi : \", np.std(scale_data))"
   ]
  },
  {
   "cell_type": "markdown",
   "id": "e517307f",
   "metadata": {},
   "source": [
    "#### Data Cleaning Nilai NULL"
   ]
  },
  {
   "cell_type": "code",
   "execution_count": 11,
   "id": "f8c1f675",
   "metadata": {},
   "outputs": [
    {
     "data": {
      "text/plain": [
       "ranking dunia          0\n",
       "universitas            1\n",
       "ranking nasional       1\n",
       "total skor          3796\n",
       "alumni                 1\n",
       "penghargaan            2\n",
       "hici                   2\n",
       "ns                    22\n",
       "pub                    2\n",
       "pcp                    2\n",
       "tahun                  0\n",
       "dtype: int64"
      ]
     },
     "execution_count": 11,
     "metadata": {},
     "output_type": "execute_result"
    }
   ],
   "source": [
    "data.isna().sum()"
   ]
  },
  {
   "cell_type": "code",
   "execution_count": 12,
   "id": "bc2df4be",
   "metadata": {},
   "outputs": [],
   "source": [
    "from sklearn.impute import SimpleImputer"
   ]
  },
  {
   "cell_type": "code",
   "execution_count": 13,
   "id": "6cb9d6a6",
   "metadata": {},
   "outputs": [],
   "source": [
    "#Mengganti Nilai NULL menggunakan nilai MEAN\n",
    "imputer1 = SimpleImputer(strategy=\"mean\")\n",
    "data['total skor'] = imputer1.fit_transform(data[['total skor']])\n",
    "data['alumni'] = imputer1.fit_transform(data[['alumni']])\n",
    "data['penghargaan'] = imputer1.fit_transform(data[['alumni']])\n",
    "data['hici'] = imputer1.fit_transform(data[['hici']])\n",
    "data['ns'] = imputer1.fit_transform(data[['ns']])\n",
    "data['pub'] = imputer1.fit_transform(data[['pub']])\n",
    "data['pcp'] = imputer1.fit_transform(data[['pcp']])"
   ]
  },
  {
   "cell_type": "code",
   "execution_count": 14,
   "id": "548aeb3c",
   "metadata": {},
   "outputs": [
    {
     "data": {
      "text/plain": [
       "ranking dunia       0\n",
       "universitas         1\n",
       "ranking nasional    1\n",
       "total skor          0\n",
       "alumni              0\n",
       "penghargaan         0\n",
       "hici                0\n",
       "ns                  0\n",
       "pub                 0\n",
       "pcp                 0\n",
       "tahun               0\n",
       "dtype: int64"
      ]
     },
     "execution_count": 14,
     "metadata": {},
     "output_type": "execute_result"
    }
   ],
   "source": [
    "data.isna().sum()"
   ]
  },
  {
   "cell_type": "markdown",
   "id": "356d3c77",
   "metadata": {},
   "source": [
    "#### Data Cleaning Nilai Duplikat"
   ]
  },
  {
   "cell_type": "code",
   "execution_count": 15,
   "id": "455b74f0",
   "metadata": {},
   "outputs": [
    {
     "data": {
      "text/plain": [
       "0"
      ]
     },
     "execution_count": 15,
     "metadata": {},
     "output_type": "execute_result"
    }
   ],
   "source": [
    "data.duplicated().sum()"
   ]
  },
  {
   "cell_type": "code",
   "execution_count": 16,
   "id": "094e42d7",
   "metadata": {},
   "outputs": [
    {
     "data": {
      "text/html": [
       "<div>\n",
       "<style scoped>\n",
       "    .dataframe tbody tr th:only-of-type {\n",
       "        vertical-align: middle;\n",
       "    }\n",
       "\n",
       "    .dataframe tbody tr th {\n",
       "        vertical-align: top;\n",
       "    }\n",
       "\n",
       "    .dataframe thead th {\n",
       "        text-align: right;\n",
       "    }\n",
       "</style>\n",
       "<table border=\"1\" class=\"dataframe\">\n",
       "  <thead>\n",
       "    <tr style=\"text-align: right;\">\n",
       "      <th></th>\n",
       "      <th>ranking dunia</th>\n",
       "      <th>universitas</th>\n",
       "      <th>ranking nasional</th>\n",
       "      <th>total skor</th>\n",
       "      <th>alumni</th>\n",
       "      <th>penghargaan</th>\n",
       "      <th>hici</th>\n",
       "      <th>ns</th>\n",
       "      <th>pub</th>\n",
       "      <th>pcp</th>\n",
       "      <th>tahun</th>\n",
       "    </tr>\n",
       "  </thead>\n",
       "  <tbody>\n",
       "    <tr>\n",
       "      <th>0</th>\n",
       "      <td>1</td>\n",
       "      <td>Harvard University</td>\n",
       "      <td>1</td>\n",
       "      <td>100.0</td>\n",
       "      <td>100.0</td>\n",
       "      <td>100.0</td>\n",
       "      <td>100.0</td>\n",
       "      <td>100.0</td>\n",
       "      <td>100.0</td>\n",
       "      <td>72.4</td>\n",
       "      <td>2005.0</td>\n",
       "    </tr>\n",
       "    <tr>\n",
       "      <th>1</th>\n",
       "      <td>2</td>\n",
       "      <td>University of Cambridge</td>\n",
       "      <td>1</td>\n",
       "      <td>73.6</td>\n",
       "      <td>99.8</td>\n",
       "      <td>93.4</td>\n",
       "      <td>53.3</td>\n",
       "      <td>56.6</td>\n",
       "      <td>70.9</td>\n",
       "      <td>66.9</td>\n",
       "      <td>2005.0</td>\n",
       "    </tr>\n",
       "    <tr>\n",
       "      <th>2</th>\n",
       "      <td>3</td>\n",
       "      <td>Stanford University</td>\n",
       "      <td>2</td>\n",
       "      <td>73.4</td>\n",
       "      <td>41.1</td>\n",
       "      <td>72.2</td>\n",
       "      <td>88.5</td>\n",
       "      <td>70.9</td>\n",
       "      <td>72.3</td>\n",
       "      <td>65.0</td>\n",
       "      <td>2005.0</td>\n",
       "    </tr>\n",
       "    <tr>\n",
       "      <th>3</th>\n",
       "      <td>4,\"University of California, Berkeley\",3,72.8,...</td>\n",
       "      <td>NaN</td>\n",
       "      <td>NaN</td>\n",
       "      <td>NaN</td>\n",
       "      <td>NaN</td>\n",
       "      <td>NaN</td>\n",
       "      <td>NaN</td>\n",
       "      <td>NaN</td>\n",
       "      <td>NaN</td>\n",
       "      <td>NaN</td>\n",
       "      <td>NaN</td>\n",
       "    </tr>\n",
       "    <tr>\n",
       "      <th>4</th>\n",
       "      <td>5</td>\n",
       "      <td>Massachusetts Institute of Technology (MIT)</td>\n",
       "      <td>4</td>\n",
       "      <td>70.1</td>\n",
       "      <td>74.0</td>\n",
       "      <td>80.6</td>\n",
       "      <td>66.7</td>\n",
       "      <td>65.8</td>\n",
       "      <td>64.3</td>\n",
       "      <td>53.0</td>\n",
       "      <td>2005.0</td>\n",
       "    </tr>\n",
       "  </tbody>\n",
       "</table>\n",
       "</div>"
      ],
      "text/plain": [
       "                                       ranking dunia  \\\n",
       "0                                                  1   \n",
       "1                                                  2   \n",
       "2                                                  3   \n",
       "3  4,\"University of California, Berkeley\",3,72.8,...   \n",
       "4                                                  5   \n",
       "\n",
       "                                   universitas ranking nasional  total skor  \\\n",
       "0                           Harvard University                1       100.0   \n",
       "1                      University of Cambridge                1        73.6   \n",
       "2                          Stanford University                2        73.4   \n",
       "3                                          NaN              NaN         NaN   \n",
       "4  Massachusetts Institute of Technology (MIT)                4        70.1   \n",
       "\n",
       "   alumni  penghargaan   hici     ns    pub   pcp   tahun  \n",
       "0   100.0        100.0  100.0  100.0  100.0  72.4  2005.0  \n",
       "1    99.8         93.4   53.3   56.6   70.9  66.9  2005.0  \n",
       "2    41.1         72.2   88.5   70.9   72.3  65.0  2005.0  \n",
       "3     NaN          NaN    NaN    NaN    NaN   NaN     NaN  \n",
       "4    74.0         80.6   66.7   65.8   64.3  53.0  2005.0  "
      ]
     },
     "execution_count": 16,
     "metadata": {},
     "output_type": "execute_result"
    }
   ],
   "source": [
    "df = pd.read_csv('Copy.csv')\n",
    "df = df.rename(columns={'world_rank':'ranking dunia', 'university_name':'universitas', 'national_rank':'ranking nasional', 'total_score':'total skor', 'award':'penghargaan', 'year':'tahun'})\n",
    "df.head()"
   ]
  },
  {
   "cell_type": "code",
   "execution_count": 17,
   "id": "0c18e468",
   "metadata": {},
   "outputs": [
    {
     "data": {
      "text/html": [
       "<div>\n",
       "<style scoped>\n",
       "    .dataframe tbody tr th:only-of-type {\n",
       "        vertical-align: middle;\n",
       "    }\n",
       "\n",
       "    .dataframe tbody tr th {\n",
       "        vertical-align: top;\n",
       "    }\n",
       "\n",
       "    .dataframe thead th {\n",
       "        text-align: right;\n",
       "    }\n",
       "</style>\n",
       "<table border=\"1\" class=\"dataframe\">\n",
       "  <thead>\n",
       "    <tr style=\"text-align: right;\">\n",
       "      <th></th>\n",
       "      <th>ranking dunia</th>\n",
       "      <th>universitas</th>\n",
       "      <th>ranking nasional</th>\n",
       "      <th>total skor</th>\n",
       "      <th>alumni</th>\n",
       "      <th>penghargaan</th>\n",
       "      <th>hici</th>\n",
       "      <th>ns</th>\n",
       "      <th>pub</th>\n",
       "      <th>pcp</th>\n",
       "      <th>tahun</th>\n",
       "    </tr>\n",
       "  </thead>\n",
       "  <tbody>\n",
       "    <tr>\n",
       "      <th>4897</th>\n",
       "      <td>401-500</td>\n",
       "      <td>University of Zaragoza</td>\n",
       "      <td>9-13</td>\n",
       "      <td>NaN</td>\n",
       "      <td>0.0</td>\n",
       "      <td>0.0</td>\n",
       "      <td>7.6</td>\n",
       "      <td>5.1</td>\n",
       "      <td>33.3</td>\n",
       "      <td>13.1</td>\n",
       "      <td>2015.0</td>\n",
       "    </tr>\n",
       "    <tr>\n",
       "      <th>4898</th>\n",
       "      <td>401-500</td>\n",
       "      <td>Utah State University</td>\n",
       "      <td>126-146</td>\n",
       "      <td>NaN</td>\n",
       "      <td>13.6</td>\n",
       "      <td>0.0</td>\n",
       "      <td>3.6</td>\n",
       "      <td>10.8</td>\n",
       "      <td>25.1</td>\n",
       "      <td>15.5</td>\n",
       "      <td>2015.0</td>\n",
       "    </tr>\n",
       "    <tr>\n",
       "      <th>4899</th>\n",
       "      <td>401-500</td>\n",
       "      <td>Vienna University of Technology</td>\n",
       "      <td>4-6</td>\n",
       "      <td>NaN</td>\n",
       "      <td>0.0</td>\n",
       "      <td>0.0</td>\n",
       "      <td>0.0</td>\n",
       "      <td>12.2</td>\n",
       "      <td>28.8</td>\n",
       "      <td>22.9</td>\n",
       "      <td>2015.0</td>\n",
       "    </tr>\n",
       "    <tr>\n",
       "      <th>4900</th>\n",
       "      <td>401-500</td>\n",
       "      <td>Wake Forest University</td>\n",
       "      <td>126-146</td>\n",
       "      <td>NaN</td>\n",
       "      <td>0.0</td>\n",
       "      <td>0.0</td>\n",
       "      <td>14.9</td>\n",
       "      <td>7.5</td>\n",
       "      <td>25.0</td>\n",
       "      <td>11.9</td>\n",
       "      <td>2015.0</td>\n",
       "    </tr>\n",
       "  </tbody>\n",
       "</table>\n",
       "</div>"
      ],
      "text/plain": [
       "     ranking dunia                      universitas ranking nasional  \\\n",
       "4897       401-500           University of Zaragoza             9-13   \n",
       "4898       401-500            Utah State University          126-146   \n",
       "4899       401-500  Vienna University of Technology              4-6   \n",
       "4900       401-500           Wake Forest University          126-146   \n",
       "\n",
       "      total skor  alumni  penghargaan  hici    ns   pub   pcp   tahun  \n",
       "4897         NaN     0.0          0.0   7.6   5.1  33.3  13.1  2015.0  \n",
       "4898         NaN    13.6          0.0   3.6  10.8  25.1  15.5  2015.0  \n",
       "4899         NaN     0.0          0.0   0.0  12.2  28.8  22.9  2015.0  \n",
       "4900         NaN     0.0          0.0  14.9   7.5  25.0  11.9  2015.0  "
      ]
     },
     "execution_count": 17,
     "metadata": {},
     "output_type": "execute_result"
    }
   ],
   "source": [
    "df[df.duplicated()]"
   ]
  },
  {
   "cell_type": "code",
   "execution_count": 18,
   "id": "5768ab16",
   "metadata": {},
   "outputs": [],
   "source": [
    "df.drop_duplicates(inplace=True)"
   ]
  },
  {
   "cell_type": "code",
   "execution_count": 19,
   "id": "a10f3d1a",
   "metadata": {},
   "outputs": [
    {
     "data": {
      "text/plain": [
       "0"
      ]
     },
     "execution_count": 19,
     "metadata": {},
     "output_type": "execute_result"
    }
   ],
   "source": [
    "df.duplicated().sum()"
   ]
  },
  {
   "cell_type": "markdown",
   "id": "86601de9",
   "metadata": {},
   "source": [
    "#### Mengganti Tipe Data"
   ]
  },
  {
   "cell_type": "code",
   "execution_count": 20,
   "id": "04058fa9",
   "metadata": {},
   "outputs": [
    {
     "data": {
      "text/plain": [
       "ranking dunia       0\n",
       "universitas         1\n",
       "ranking nasional    1\n",
       "total skor          0\n",
       "alumni              0\n",
       "penghargaan         0\n",
       "hici                0\n",
       "ns                  0\n",
       "pub                 0\n",
       "pcp                 0\n",
       "tahun               0\n",
       "dtype: int64"
      ]
     },
     "execution_count": 20,
     "metadata": {},
     "output_type": "execute_result"
    }
   ],
   "source": [
    "data.isna().sum()"
   ]
  },
  {
   "cell_type": "code",
   "execution_count": 22,
   "id": "320964b8",
   "metadata": {},
   "outputs": [],
   "source": [
    "data['total skor'] = data['total skor'].astype('int')"
   ]
  },
  {
   "cell_type": "markdown",
   "id": "c63f8ae5",
   "metadata": {},
   "source": [
    "#### One Hot Encoding"
   ]
  },
  {
   "cell_type": "code",
   "execution_count": 38,
   "id": "460e1181",
   "metadata": {},
   "outputs": [],
   "source": [
    "from sklearn.preprocessing import OneHotEncoder\n",
    "\n",
    "y = OneHotEncoder(sparse=False)\n",
    "y = y.fit_transform(data[['pub']])\n",
    "data_y = pd.DataFrame(y)"
   ]
  },
  {
   "cell_type": "code",
   "execution_count": 39,
   "id": "8b68ce92",
   "metadata": {},
   "outputs": [
    {
     "data": {
      "text/plain": [
       "array([[0., 0., 0., ..., 0., 0., 1.],\n",
       "       [0., 0., 0., ..., 0., 0., 0.],\n",
       "       [0., 0., 0., ..., 0., 0., 0.],\n",
       "       ...,\n",
       "       [0., 0., 0., ..., 0., 0., 0.],\n",
       "       [0., 0., 0., ..., 0., 0., 0.],\n",
       "       [0., 0., 0., ..., 0., 0., 0.]])"
      ]
     },
     "execution_count": 39,
     "metadata": {},
     "output_type": "execute_result"
    }
   ],
   "source": [
    "y"
   ]
  }
 ],
 "metadata": {
  "kernelspec": {
   "display_name": "Python 3 (ipykernel)",
   "language": "python",
   "name": "python3"
  },
  "language_info": {
   "codemirror_mode": {
    "name": "ipython",
    "version": 3
   },
   "file_extension": ".py",
   "mimetype": "text/x-python",
   "name": "python",
   "nbconvert_exporter": "python",
   "pygments_lexer": "ipython3",
   "version": "3.10.4"
  }
 },
 "nbformat": 4,
 "nbformat_minor": 5
}
