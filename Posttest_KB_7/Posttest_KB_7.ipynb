{
 "cells": [
  {
   "cell_type": "markdown",
   "id": "52ae0a78",
   "metadata": {},
   "source": [
    "## Import Library"
   ]
  },
  {
   "cell_type": "code",
   "execution_count": 1,
   "id": "444f5021",
   "metadata": {},
   "outputs": [],
   "source": [
    "import pandas as pd\n",
    "import numpy as np  \n",
    "import matplotlib.pyplot as plt\n",
    "import tensorflow as tf"
   ]
  },
  {
   "cell_type": "markdown",
   "id": "3673dfed",
   "metadata": {},
   "source": [
    "## Variable dengan Nilai Random"
   ]
  },
  {
   "cell_type": "code",
   "execution_count": 2,
   "id": "5b6c98d1",
   "metadata": {},
   "outputs": [
    {
     "data": {
      "text/plain": [
       "array([[-0.8113182 ,  1.4845988 ,  0.06532937, -2.4427042 ,  0.0992484 ],\n",
       "       [ 0.5912243 ,  0.59282297, -2.1229296 , -0.72289723, -0.05627038],\n",
       "       [ 0.6435448 , -0.26432407,  1.8566332 ,  0.5678417 , -0.3828359 ],\n",
       "       [-1.4853433 ,  1.2617711 , -0.02530608, -0.2646297 ,  1.5328138 ],\n",
       "       [-1.7429771 , -0.43789294, -0.56601   ,  0.32066926,  1.132831  ]],\n",
       "      dtype=float32)"
      ]
     },
     "execution_count": 2,
     "metadata": {},
     "output_type": "execute_result"
    }
   ],
   "source": [
    "random_tensor = tf.random.normal([5,5], mean = 0, stddev = 1.0, seed = 1)\n",
    "random_tensor.numpy()"
   ]
  },
  {
   "cell_type": "markdown",
   "id": "acf51e9b",
   "metadata": {},
   "source": [
    "## Variable dengan Bilangan Prima"
   ]
  },
  {
   "cell_type": "code",
   "execution_count": 3,
   "id": "136cbfa7",
   "metadata": {},
   "outputs": [
    {
     "name": "stdout",
     "output_type": "stream",
     "text": [
      "tf.Tensor(\n",
      "[[ 2.  3.  5.  7. 11.]\n",
      " [13. 17. 19. 23. 29.]\n",
      " [31. 37. 41. 43. 47.]\n",
      " [53. 59. 61. 67. 71.]\n",
      " [73. 79. 83. 89. 97.]], shape=(5, 5), dtype=float32)\n"
     ]
    }
   ],
   "source": [
    "prime_tensor = tf.constant([[2,3,5,7,11],[13,17,19,23,29],[31,37,41,43,47],[53,59,61,67,71],[73,79,83,89,97]], shape = [5,5], dtype = tf.float32)\n",
    "print(prime_tensor)"
   ]
  },
  {
   "cell_type": "markdown",
   "id": "a1789bd1",
   "metadata": {},
   "source": [
    "## Dimensi Modification Variable random_tensor"
   ]
  },
  {
   "cell_type": "markdown",
   "id": "d58b5c5a",
   "metadata": {},
   "source": [
    "#### 1. Dimensi Display"
   ]
  },
  {
   "cell_type": "code",
   "execution_count": 4,
   "id": "9bf54a0f",
   "metadata": {},
   "outputs": [
    {
     "data": {
      "text/plain": [
       "<tf.Tensor: shape=(2,), dtype=int32, numpy=array([5, 5])>"
      ]
     },
     "execution_count": 4,
     "metadata": {},
     "output_type": "execute_result"
    }
   ],
   "source": [
    "tf.shape(random_tensor)"
   ]
  },
  {
   "cell_type": "markdown",
   "id": "d6399637",
   "metadata": {},
   "source": [
    "#### 2. Dimensi Reshaping"
   ]
  },
  {
   "cell_type": "code",
   "execution_count": 5,
   "id": "17247214",
   "metadata": {},
   "outputs": [
    {
     "data": {
      "text/plain": [
       "TensorShape([25])"
      ]
     },
     "execution_count": 5,
     "metadata": {},
     "output_type": "execute_result"
    }
   ],
   "source": [
    "tensor_reshape = tf.reshape(random_tensor, (-1))\n",
    "tensor_reshape.get_shape()"
   ]
  },
  {
   "cell_type": "markdown",
   "id": "eea0c8bb",
   "metadata": {},
   "source": [
    "#### 3. Dimensi Expansion"
   ]
  },
  {
   "cell_type": "code",
   "execution_count": 6,
   "id": "07028c8e",
   "metadata": {},
   "outputs": [
    {
     "data": {
      "text/plain": [
       "TensorShape([5, 1, 5])"
      ]
     },
     "execution_count": 6,
     "metadata": {},
     "output_type": "execute_result"
    }
   ],
   "source": [
    "tensor_exp = tf.expand_dims(random_tensor, axis=1)\n",
    "tensor_exp.shape"
   ]
  },
  {
   "cell_type": "markdown",
   "id": "ba16c2d0",
   "metadata": {},
   "source": [
    "#### 4. Dimensi Squeezing"
   ]
  },
  {
   "cell_type": "code",
   "execution_count": 7,
   "id": "05070570",
   "metadata": {},
   "outputs": [
    {
     "data": {
      "text/plain": [
       "TensorShape([5, 5])"
      ]
     },
     "execution_count": 7,
     "metadata": {},
     "output_type": "execute_result"
    }
   ],
   "source": [
    "tf.squeeze(tensor_exp, axis=1).shape"
   ]
  },
  {
   "cell_type": "markdown",
   "id": "3c5c0ca3",
   "metadata": {},
   "source": [
    "#### 5. Transpose"
   ]
  },
  {
   "cell_type": "code",
   "execution_count": 8,
   "id": "4e8b4ee6",
   "metadata": {},
   "outputs": [
    {
     "data": {
      "text/plain": [
       "<tf.Tensor: shape=(5, 5), dtype=float32, numpy=\n",
       "array([[-0.8113182 ,  0.5912243 ,  0.6435448 , -1.4853433 , -1.7429771 ],\n",
       "       [ 1.4845988 ,  0.59282297, -0.26432407,  1.2617711 , -0.43789294],\n",
       "       [ 0.06532937, -2.1229296 ,  1.8566332 , -0.02530608, -0.56601   ],\n",
       "       [-2.4427042 , -0.72289723,  0.5678417 , -0.2646297 ,  0.32066926],\n",
       "       [ 0.0992484 , -0.05627038, -0.3828359 ,  1.5328138 ,  1.132831  ]],\n",
       "      dtype=float32)>"
      ]
     },
     "execution_count": 8,
     "metadata": {},
     "output_type": "execute_result"
    }
   ],
   "source": [
    "tf.transpose(random_tensor)"
   ]
  },
  {
   "cell_type": "markdown",
   "id": "b6ad19d1",
   "metadata": {},
   "source": [
    "#### 6. Broadcast"
   ]
  },
  {
   "cell_type": "code",
   "execution_count": 9,
   "id": "7de9e962",
   "metadata": {},
   "outputs": [
    {
     "data": {
      "text/plain": [
       "<tf.Tensor: shape=(5, 5), dtype=float32, numpy=\n",
       "array([[-0.8113182 ,  1.4845988 ,  0.06532937, -2.4427042 ,  0.0992484 ],\n",
       "       [ 0.5912243 ,  0.59282297, -2.1229296 , -0.72289723, -0.05627038],\n",
       "       [ 0.6435448 , -0.26432407,  1.8566332 ,  0.5678417 , -0.3828359 ],\n",
       "       [-1.4853433 ,  1.2617711 , -0.02530608, -0.2646297 ,  1.5328138 ],\n",
       "       [-1.7429771 , -0.43789294, -0.56601   ,  0.32066926,  1.132831  ]],\n",
       "      dtype=float32)>"
      ]
     },
     "execution_count": 9,
     "metadata": {},
     "output_type": "execute_result"
    }
   ],
   "source": [
    "tf.broadcast_to(random_tensor, shape =[5,5])"
   ]
  },
  {
   "cell_type": "markdown",
   "id": "7234c5a8",
   "metadata": {},
   "source": [
    "## Dimensi Modification Variable prime_tensor"
   ]
  },
  {
   "cell_type": "markdown",
   "id": "97e301b5",
   "metadata": {},
   "source": [
    "#### 1. Dimensi Display"
   ]
  },
  {
   "cell_type": "code",
   "execution_count": 10,
   "id": "42d48660",
   "metadata": {},
   "outputs": [
    {
     "data": {
      "text/plain": [
       "TensorShape([5, 5])"
      ]
     },
     "execution_count": 10,
     "metadata": {},
     "output_type": "execute_result"
    }
   ],
   "source": [
    "prime_tensor.get_shape()"
   ]
  },
  {
   "cell_type": "markdown",
   "id": "bb6d3eed",
   "metadata": {},
   "source": [
    "#### 2. Dimensi Reshaping"
   ]
  },
  {
   "cell_type": "code",
   "execution_count": 11,
   "id": "983e2357",
   "metadata": {},
   "outputs": [
    {
     "data": {
      "text/plain": [
       "TensorShape([25])"
      ]
     },
     "execution_count": 11,
     "metadata": {},
     "output_type": "execute_result"
    }
   ],
   "source": [
    "tensor_reshape2 = tf.reshape(prime_tensor, [-1])\n",
    "tensor_reshape2.get_shape()"
   ]
  },
  {
   "cell_type": "markdown",
   "id": "1c1f3a16",
   "metadata": {},
   "source": [
    "#### 3. Dimensi Expansion"
   ]
  },
  {
   "cell_type": "code",
   "execution_count": 12,
   "id": "ff30fbba",
   "metadata": {},
   "outputs": [
    {
     "data": {
      "text/plain": [
       "TensorShape([5, 5, 1])"
      ]
     },
     "execution_count": 12,
     "metadata": {},
     "output_type": "execute_result"
    }
   ],
   "source": [
    "tensor_exp2 = tf.expand_dims(prime_tensor, axis=2)\n",
    "tensor_exp2.shape"
   ]
  },
  {
   "cell_type": "markdown",
   "id": "81a6d54e",
   "metadata": {},
   "source": [
    "#### 4. Dimensi Squeezing"
   ]
  },
  {
   "cell_type": "code",
   "execution_count": 13,
   "id": "7e56de10",
   "metadata": {},
   "outputs": [
    {
     "data": {
      "text/plain": [
       "TensorShape([5, 5])"
      ]
     },
     "execution_count": 13,
     "metadata": {},
     "output_type": "execute_result"
    }
   ],
   "source": [
    "tf.squeeze(tensor_exp2, axis=2).shape"
   ]
  },
  {
   "cell_type": "markdown",
   "id": "267f8c6e",
   "metadata": {},
   "source": [
    "#### 5. Transpose"
   ]
  },
  {
   "cell_type": "code",
   "execution_count": 14,
   "id": "2c767f28",
   "metadata": {},
   "outputs": [
    {
     "data": {
      "text/plain": [
       "<tf.Tensor: shape=(5, 5), dtype=float32, numpy=\n",
       "array([[ 2., 13., 31., 53., 73.],\n",
       "       [ 3., 17., 37., 59., 79.],\n",
       "       [ 5., 19., 41., 61., 83.],\n",
       "       [ 7., 23., 43., 67., 89.],\n",
       "       [11., 29., 47., 71., 97.]], dtype=float32)>"
      ]
     },
     "execution_count": 14,
     "metadata": {},
     "output_type": "execute_result"
    }
   ],
   "source": [
    "tf.transpose(prime_tensor)"
   ]
  },
  {
   "cell_type": "markdown",
   "id": "2a98139c",
   "metadata": {},
   "source": [
    "#### 6. Broadcast"
   ]
  },
  {
   "cell_type": "code",
   "execution_count": 15,
   "id": "84997abf",
   "metadata": {},
   "outputs": [
    {
     "data": {
      "text/plain": [
       "<tf.Tensor: shape=(5, 5), dtype=float32, numpy=\n",
       "array([[ 2.,  3.,  5.,  7., 11.],\n",
       "       [13., 17., 19., 23., 29.],\n",
       "       [31., 37., 41., 43., 47.],\n",
       "       [53., 59., 61., 67., 71.],\n",
       "       [73., 79., 83., 89., 97.]], dtype=float32)>"
      ]
     },
     "execution_count": 15,
     "metadata": {},
     "output_type": "execute_result"
    }
   ],
   "source": [
    "tf.broadcast_to(prime_tensor, shape =[5,5])"
   ]
  },
  {
   "cell_type": "markdown",
   "id": "87cbc0d5",
   "metadata": {},
   "source": [
    "## Operator Aritmatika"
   ]
  },
  {
   "cell_type": "markdown",
   "id": "16be72bc",
   "metadata": {},
   "source": [
    "#### 1. Penjumlahan"
   ]
  },
  {
   "cell_type": "code",
   "execution_count": 16,
   "id": "9d50e54f",
   "metadata": {},
   "outputs": [
    {
     "name": "stdout",
     "output_type": "stream",
     "text": [
      "tf.Tensor(\n",
      "[[ 1.1886818  4.4845986  5.0653296  4.557296  11.099248 ]\n",
      " [13.591225  17.592823  16.877071  22.277103  28.94373  ]\n",
      " [31.643545  36.735676  42.856632  43.56784   46.617165 ]\n",
      " [51.514656  60.261772  60.974693  66.73537   72.532814 ]\n",
      " [71.25702   78.5621    82.43399   89.32067   98.13283  ]], shape=(5, 5), dtype=float32)\n"
     ]
    }
   ],
   "source": [
    "print(tf.add(random_tensor, prime_tensor))"
   ]
  },
  {
   "cell_type": "markdown",
   "id": "2648d7ea",
   "metadata": {},
   "source": [
    "#### 2. Perkalian"
   ]
  },
  {
   "cell_type": "code",
   "execution_count": 17,
   "id": "6a662ce0",
   "metadata": {},
   "outputs": [
    {
     "name": "stdout",
     "output_type": "stream",
     "text": [
      "tf.Tensor(\n",
      "[[  -1.6226364     4.4537964     0.32664686  -17.09893       1.0917324 ]\n",
      " [   7.685916     10.077991    -40.335663    -16.626637     -1.6318411 ]\n",
      " [  19.949888     -9.77999      76.12196      24.417194    -17.993286  ]\n",
      " [ -78.7232       74.444496     -1.5436709   -17.73019     108.82978   ]\n",
      " [-127.237335    -34.593544    -46.97883      28.539564    109.884605  ]], shape=(5, 5), dtype=float32)\n"
     ]
    }
   ],
   "source": [
    "print(tf.multiply(random_tensor, prime_tensor))"
   ]
  },
  {
   "cell_type": "markdown",
   "id": "bde4ba10",
   "metadata": {},
   "source": [
    "#### 3. Pembagian"
   ]
  },
  {
   "cell_type": "code",
   "execution_count": 18,
   "id": "20788dcf",
   "metadata": {},
   "outputs": [
    {
     "name": "stdout",
     "output_type": "stream",
     "text": [
      "tf.Tensor(\n",
      "[[-4.0565911e-01  4.9486625e-01  1.3065875e-02 -3.4895775e-01\n",
      "   9.0225823e-03]\n",
      " [ 4.5478795e-02  3.4871940e-02 -1.1173314e-01 -3.1430315e-02\n",
      "  -1.9403580e-03]\n",
      " [ 2.0759510e-02 -7.1438937e-03  4.5283735e-02  1.3205621e-02\n",
      "  -8.1454450e-03]\n",
      " [-2.8025346e-02  2.1385951e-02 -4.1485377e-04 -3.9496967e-03\n",
      "   2.1588927e-02]\n",
      " [-2.3876399e-02 -5.5429488e-03 -6.8193977e-03  3.6030253e-03\n",
      "   1.1678670e-02]], shape=(5, 5), dtype=float32)\n"
     ]
    }
   ],
   "source": [
    "print(tf.divide(random_tensor, prime_tensor))"
   ]
  },
  {
   "cell_type": "markdown",
   "id": "cacc5022",
   "metadata": {},
   "source": [
    "#### 4. Perpangkatan"
   ]
  },
  {
   "cell_type": "code",
   "execution_count": 19,
   "id": "6bce4e8a",
   "metadata": {},
   "outputs": [
    {
     "name": "stdout",
     "output_type": "stream",
     "text": [
      "tf.Tensor(\n",
      "[[ 6.5823728e-01  3.2721055e+00  1.1899876e-06 -5.1891492e+02\n",
      "   9.2036214e-12]\n",
      " [ 1.0783996e-03  1.3795117e-04 -1.6284565e+06 -5.7380047e-04\n",
      "  -5.7294839e-37]\n",
      " [ 1.1639711e-06 -4.1596646e-22  1.0417667e+11  2.7025481e-11\n",
      "  -2.5211261e-20]\n",
      " [-1.2788605e+09  9.0751462e+05 -0.0000000e+00 -0.0000000e+00\n",
      "   1.4782479e+13]\n",
      " [-4.1142766e+17 -4.6565877e-29 -3.0507073e-21  0.0000000e+00\n",
      "   1.7948009e+05]], shape=(5, 5), dtype=float32)\n"
     ]
    }
   ],
   "source": [
    "print(tf.pow(random_tensor, prime_tensor))"
   ]
  },
  {
   "cell_type": "markdown",
   "id": "120aa3be",
   "metadata": {},
   "source": [
    "#### 5. Logaritma"
   ]
  },
  {
   "cell_type": "code",
   "execution_count": 20,
   "id": "615fe465",
   "metadata": {},
   "outputs": [
    {
     "name": "stdout",
     "output_type": "stream",
     "text": [
      "tf.Tensor(\n",
      "[[        nan  0.39514455 -2.7283134          nan -2.3101294 ]\n",
      " [-0.5255598  -0.52285945         nan         nan         nan]\n",
      " [-0.44076362         nan  0.61876476 -0.5659126          nan]\n",
      " [        nan  0.23251635         nan         nan  0.42710513]\n",
      " [        nan         nan         nan -1.1373451   0.12471979]], shape=(5, 5), dtype=float32)\n"
     ]
    }
   ],
   "source": [
    "print(tf.math.log(random_tensor, prime_tensor))"
   ]
  },
  {
   "cell_type": "markdown",
   "id": "3b460069",
   "metadata": {},
   "source": [
    "#### 6.  Matrix Multiplication"
   ]
  },
  {
   "cell_type": "code",
   "execution_count": 21,
   "id": "9d687444",
   "metadata": {},
   "outputs": [
    {
     "name": "stdout",
     "output_type": "stream",
     "text": [
      "tf.Tensor(\n",
      "[[-102.51583  -111.05752  -113.93805  -123.552376 -126.60555 ]\n",
      " [ -99.34296  -113.79302  -121.587524 -126.95465  -132.86629 ]\n",
      " [  57.5551     69.391174   77.18049    82.23359    89.85703 ]\n",
      " [ 110.51788   121.53689   126.590515  136.2254    148.95743 ]\n",
      " [  72.96726    74.79765    73.344536   75.69599    74.17801 ]], shape=(5, 5), dtype=float32)\n"
     ]
    }
   ],
   "source": [
    "print(tf.matmul(random_tensor, prime_tensor))"
   ]
  },
  {
   "cell_type": "markdown",
   "id": "591c9798",
   "metadata": {},
   "source": [
    "## Nilai Maksimal & Minimal Variable random_tensor"
   ]
  },
  {
   "cell_type": "markdown",
   "id": "966de0bf",
   "metadata": {},
   "source": [
    "#### 1. Nilai Maksimal"
   ]
  },
  {
   "cell_type": "code",
   "execution_count": 22,
   "id": "58aaa71d",
   "metadata": {},
   "outputs": [
    {
     "name": "stdout",
     "output_type": "stream",
     "text": [
      "Nilai maksimal variabel random_tensor berdasarkan kolom :  [2 0 2 2 3]\n",
      "Nilai maksimal variabel random_tensor berdasarkan baris :  [1 1 2 4 4]\n"
     ]
    }
   ],
   "source": [
    "tensor_max_c = tf.argmax(random_tensor, axis=0)\n",
    "tensor_max_r = tf.argmax(random_tensor, axis=1)\n",
    "print(\"Nilai maksimal variabel random_tensor berdasarkan kolom : \", tensor_max_c.numpy())\n",
    "print(\"Nilai maksimal variabel random_tensor berdasarkan baris : \", tensor_max_r.numpy())"
   ]
  },
  {
   "cell_type": "markdown",
   "id": "b8a50b1a",
   "metadata": {},
   "source": [
    "#### 2. Nilai Minimal"
   ]
  },
  {
   "cell_type": "code",
   "execution_count": 23,
   "id": "48a7f5f1",
   "metadata": {},
   "outputs": [
    {
     "name": "stdout",
     "output_type": "stream",
     "text": [
      "Nilai minimal variabel random_tensor berdasarkan kolom :  [4 4 1 0 2]\n",
      "Nilai minimal variabel random_tensor berdasarkan baris :  [3 2 4 0 0]\n"
     ]
    }
   ],
   "source": [
    "tensor_min_c = tf.argmin(random_tensor, axis=0)\n",
    "tensor_min_r = tf.argmin(random_tensor, axis=1)\n",
    "print(\"Nilai minimal variabel random_tensor berdasarkan kolom : \", tensor_min_c.numpy())\n",
    "print(\"Nilai minimal variabel random_tensor berdasarkan baris : \", tensor_min_r.numpy())"
   ]
  },
  {
   "cell_type": "markdown",
   "id": "adb93144",
   "metadata": {},
   "source": [
    "## Concatenation"
   ]
  },
  {
   "cell_type": "code",
   "execution_count": 24,
   "id": "76fc7a95",
   "metadata": {},
   "outputs": [
    {
     "name": "stdout",
     "output_type": "stream",
     "text": [
      "Ukuran data setelah digabungkan:  (10, 5)\n"
     ]
    }
   ],
   "source": [
    "tensor_concated = tf.concat([random_tensor, prime_tensor],axis=0)\n",
    "print(\"Ukuran data setelah digabungkan: \", tensor_concated.shape)"
   ]
  },
  {
   "cell_type": "markdown",
   "id": "58131e43",
   "metadata": {},
   "source": [
    "## Sorting"
   ]
  },
  {
   "cell_type": "code",
   "execution_count": 25,
   "id": "59622021",
   "metadata": {
    "scrolled": true
   },
   "outputs": [
    {
     "name": "stdout",
     "output_type": "stream",
     "text": [
      "tf.Tensor(\n",
      "[[ 1.4845988   0.0992484   0.06532937 -0.8113182  -2.4427042 ]\n",
      " [ 0.59282297  0.5912243  -0.05627038 -0.72289723 -2.1229296 ]\n",
      " [ 1.8566332   0.6435448   0.5678417  -0.26432407 -0.3828359 ]\n",
      " [ 1.5328138   1.2617711  -0.02530608 -0.2646297  -1.4853433 ]\n",
      " [ 1.132831    0.32066926 -0.43789294 -0.56601    -1.7429771 ]], shape=(5, 5), dtype=float32)\n"
     ]
    }
   ],
   "source": [
    "tensor_sort = tf.sort(random_tensor, direction = \"DESCENDING\")\n",
    "print(tensor_sort)"
   ]
  },
  {
   "cell_type": "code",
   "execution_count": 26,
   "id": "6ad07648",
   "metadata": {},
   "outputs": [
    {
     "name": "stdout",
     "output_type": "stream",
     "text": [
      "tf.Tensor(\n",
      "[[11.  7.  5.  3.  2.]\n",
      " [29. 23. 19. 17. 13.]\n",
      " [47. 43. 41. 37. 31.]\n",
      " [71. 67. 61. 59. 53.]\n",
      " [97. 89. 83. 79. 73.]], shape=(5, 5), dtype=float32)\n"
     ]
    }
   ],
   "source": [
    "tensor_sort2 = tf.sort(prime_tensor, direction = \"DESCENDING\")\n",
    "print(tensor_sort2)"
   ]
  }
 ],
 "metadata": {
  "kernelspec": {
   "display_name": "Python 3 (ipykernel)",
   "language": "python",
   "name": "python3"
  },
  "language_info": {
   "codemirror_mode": {
    "name": "ipython",
    "version": 3
   },
   "file_extension": ".py",
   "mimetype": "text/x-python",
   "name": "python",
   "nbconvert_exporter": "python",
   "pygments_lexer": "ipython3",
   "version": "3.10.4"
  }
 },
 "nbformat": 4,
 "nbformat_minor": 5
}
