{
 "cells": [
  {
   "cell_type": "markdown",
   "id": "49ce7abf",
   "metadata": {},
   "source": [
    "Import library\n",
    "Import file csv"
   ]
  },
  {
   "cell_type": "code",
   "execution_count": 2,
   "id": "84484975",
   "metadata": {},
   "outputs": [
    {
     "data": {
      "text/html": [
       "<div>\n",
       "<style scoped>\n",
       "    .dataframe tbody tr th:only-of-type {\n",
       "        vertical-align: middle;\n",
       "    }\n",
       "\n",
       "    .dataframe tbody tr th {\n",
       "        vertical-align: top;\n",
       "    }\n",
       "\n",
       "    .dataframe thead th {\n",
       "        text-align: right;\n",
       "    }\n",
       "</style>\n",
       "<table border=\"1\" class=\"dataframe\">\n",
       "  <thead>\n",
       "    <tr style=\"text-align: right;\">\n",
       "      <th></th>\n",
       "      <th>Unnamed: 0</th>\n",
       "      <th>title</th>\n",
       "      <th>year</th>\n",
       "      <th>genre</th>\n",
       "      <th>rating</th>\n",
       "      <th>votes</th>\n",
       "      <th>directors</th>\n",
       "      <th>plot</th>\n",
       "    </tr>\n",
       "  </thead>\n",
       "  <tbody>\n",
       "    <tr>\n",
       "      <th>0</th>\n",
       "      <td>0</td>\n",
       "      <td>The Last of Us: Part I</td>\n",
       "      <td>2022</td>\n",
       "      <td>Action, Adventure, Drama</td>\n",
       "      <td>9.8</td>\n",
       "      <td>601</td>\n",
       "      <td>Matthew Gallant, Bruce Straley</td>\n",
       "      <td>Experience the emotional storytelling and unfo...</td>\n",
       "    </tr>\n",
       "    <tr>\n",
       "      <th>1</th>\n",
       "      <td>1</td>\n",
       "      <td>Red Dead Redemption II</td>\n",
       "      <td>2018</td>\n",
       "      <td>Action, Adventure, Crime</td>\n",
       "      <td>9.7</td>\n",
       "      <td>36,441</td>\n",
       "      <td>Missing</td>\n",
       "      <td>Amidst the decline of the Wild West at the tur...</td>\n",
       "    </tr>\n",
       "    <tr>\n",
       "      <th>2</th>\n",
       "      <td>2</td>\n",
       "      <td>The Witcher 3: Wild Hunt - Blood and Wine</td>\n",
       "      <td>2016</td>\n",
       "      <td>Action, Adventure, Drama</td>\n",
       "      <td>9.7</td>\n",
       "      <td>7,610</td>\n",
       "      <td>Konrad Tomaszkiewicz</td>\n",
       "      <td>Geralt is in the southern province of Toussain...</td>\n",
       "    </tr>\n",
       "    <tr>\n",
       "      <th>3</th>\n",
       "      <td>3</td>\n",
       "      <td>The Witcher 3: Wild Hunt</td>\n",
       "      <td>2015</td>\n",
       "      <td>Action, Adventure, Drama</td>\n",
       "      <td>9.7</td>\n",
       "      <td>26,328</td>\n",
       "      <td>Konrad Tomaszkiewicz</td>\n",
       "      <td>A monster hunter for hire embarks on an epic j...</td>\n",
       "    </tr>\n",
       "    <tr>\n",
       "      <th>4</th>\n",
       "      <td>4</td>\n",
       "      <td>The Last of Us</td>\n",
       "      <td>2013</td>\n",
       "      <td>Action, Adventure, Drama</td>\n",
       "      <td>9.7</td>\n",
       "      <td>61,103</td>\n",
       "      <td>Neil Druckmann, Bruce Straley</td>\n",
       "      <td>In a hostile, post-pandemic world, Joel and El...</td>\n",
       "    </tr>\n",
       "    <tr>\n",
       "      <th>...</th>\n",
       "      <td>...</td>\n",
       "      <td>...</td>\n",
       "      <td>...</td>\n",
       "      <td>...</td>\n",
       "      <td>...</td>\n",
       "      <td>...</td>\n",
       "      <td>...</td>\n",
       "      <td>...</td>\n",
       "    </tr>\n",
       "    <tr>\n",
       "      <th>12630</th>\n",
       "      <td>12633</td>\n",
       "      <td>Superman</td>\n",
       "      <td>1999</td>\n",
       "      <td>Action, Adventure, Family</td>\n",
       "      <td>1.4</td>\n",
       "      <td>646</td>\n",
       "      <td>Missing</td>\n",
       "      <td>The first 3D Superman game. Your friends Lois ...</td>\n",
       "    </tr>\n",
       "    <tr>\n",
       "      <th>12631</th>\n",
       "      <td>12634</td>\n",
       "      <td>Action 52</td>\n",
       "      <td>1991</td>\n",
       "      <td>Action, Family, Fantasy</td>\n",
       "      <td>1.3</td>\n",
       "      <td>135</td>\n",
       "      <td>Raul Gomila, Vince Perri</td>\n",
       "      <td>Play the action at your fingertips with 52 gam...</td>\n",
       "    </tr>\n",
       "    <tr>\n",
       "      <th>12632</th>\n",
       "      <td>12635</td>\n",
       "      <td>Plumbers Don't Wear Ties</td>\n",
       "      <td>1994</td>\n",
       "      <td>Comedy, Romance</td>\n",
       "      <td>1.3</td>\n",
       "      <td>338</td>\n",
       "      <td>Michael Anderson</td>\n",
       "      <td>John, an unattached plumber, meets and falls i...</td>\n",
       "    </tr>\n",
       "    <tr>\n",
       "      <th>12633</th>\n",
       "      <td>12636</td>\n",
       "      <td>Animal Soccer World</td>\n",
       "      <td>2005</td>\n",
       "      <td>Animation, Sport</td>\n",
       "      <td>1.2</td>\n",
       "      <td>125</td>\n",
       "      <td>Roswitha Haas</td>\n",
       "      <td>Everybody is busy with the preparations for th...</td>\n",
       "    </tr>\n",
       "    <tr>\n",
       "      <th>12634</th>\n",
       "      <td>12637</td>\n",
       "      <td>CrazyBus</td>\n",
       "      <td>2004</td>\n",
       "      <td>Adventure, Family</td>\n",
       "      <td>1.0</td>\n",
       "      <td>126</td>\n",
       "      <td>Tom Maneiro</td>\n",
       "      <td>You get to select your bus and drive it across...</td>\n",
       "    </tr>\n",
       "  </tbody>\n",
       "</table>\n",
       "<p>12635 rows × 8 columns</p>\n",
       "</div>"
      ],
      "text/plain": [
       "       Unnamed: 0                                      title  year  \\\n",
       "0               0                     The Last of Us: Part I  2022   \n",
       "1               1                     Red Dead Redemption II  2018   \n",
       "2               2  The Witcher 3: Wild Hunt - Blood and Wine  2016   \n",
       "3               3                   The Witcher 3: Wild Hunt  2015   \n",
       "4               4                             The Last of Us  2013   \n",
       "...           ...                                        ...   ...   \n",
       "12630       12633                                   Superman  1999   \n",
       "12631       12634                                  Action 52  1991   \n",
       "12632       12635                   Plumbers Don't Wear Ties  1994   \n",
       "12633       12636                        Animal Soccer World  2005   \n",
       "12634       12637                                   CrazyBus  2004   \n",
       "\n",
       "                           genre  rating   votes  \\\n",
       "0       Action, Adventure, Drama     9.8     601   \n",
       "1       Action, Adventure, Crime     9.7  36,441   \n",
       "2       Action, Adventure, Drama     9.7   7,610   \n",
       "3       Action, Adventure, Drama     9.7  26,328   \n",
       "4       Action, Adventure, Drama     9.7  61,103   \n",
       "...                          ...     ...     ...   \n",
       "12630  Action, Adventure, Family     1.4     646   \n",
       "12631    Action, Family, Fantasy     1.3     135   \n",
       "12632            Comedy, Romance     1.3     338   \n",
       "12633           Animation, Sport     1.2     125   \n",
       "12634          Adventure, Family     1.0     126   \n",
       "\n",
       "                            directors  \\\n",
       "0      Matthew Gallant, Bruce Straley   \n",
       "1                             Missing   \n",
       "2                Konrad Tomaszkiewicz   \n",
       "3                Konrad Tomaszkiewicz   \n",
       "4       Neil Druckmann, Bruce Straley   \n",
       "...                               ...   \n",
       "12630                         Missing   \n",
       "12631        Raul Gomila, Vince Perri   \n",
       "12632                Michael Anderson   \n",
       "12633                   Roswitha Haas   \n",
       "12634                     Tom Maneiro   \n",
       "\n",
       "                                                    plot  \n",
       "0      Experience the emotional storytelling and unfo...  \n",
       "1      Amidst the decline of the Wild West at the tur...  \n",
       "2      Geralt is in the southern province of Toussain...  \n",
       "3      A monster hunter for hire embarks on an epic j...  \n",
       "4      In a hostile, post-pandemic world, Joel and El...  \n",
       "...                                                  ...  \n",
       "12630  The first 3D Superman game. Your friends Lois ...  \n",
       "12631  Play the action at your fingertips with 52 gam...  \n",
       "12632  John, an unattached plumber, meets and falls i...  \n",
       "12633  Everybody is busy with the preparations for th...  \n",
       "12634  You get to select your bus and drive it across...  \n",
       "\n",
       "[12635 rows x 8 columns]"
      ]
     },
     "execution_count": 2,
     "metadata": {},
     "output_type": "execute_result"
    }
   ],
   "source": [
    "import pandas as pd\n",
    "import numpy as np\n",
    "data = pd.read_csv('video_game_rating.csv')\n",
    "data"
   ]
  },
  {
   "cell_type": "code",
   "execution_count": null,
   "id": "41f8aa0f",
   "metadata": {},
   "outputs": [],
   "source": [
    "Menampilkan jumlah record, nama atribut beserta tipe datanya"
   ]
  },
  {
   "cell_type": "code",
   "execution_count": 3,
   "id": "dc174b18",
   "metadata": {},
   "outputs": [
    {
     "name": "stdout",
     "output_type": "stream",
     "text": [
      "<class 'pandas.core.frame.DataFrame'>\n",
      "RangeIndex: 12635 entries, 0 to 12634\n",
      "Data columns (total 8 columns):\n",
      " #   Column      Non-Null Count  Dtype  \n",
      "---  ------      --------------  -----  \n",
      " 0   Unnamed: 0  12635 non-null  int64  \n",
      " 1   title       12635 non-null  object \n",
      " 2   year        12635 non-null  object \n",
      " 3   genre       12635 non-null  object \n",
      " 4   rating      12635 non-null  float64\n",
      " 5   votes       12635 non-null  object \n",
      " 6   directors   12635 non-null  object \n",
      " 7   plot        12635 non-null  object \n",
      "dtypes: float64(1), int64(1), object(6)\n",
      "memory usage: 789.8+ KB\n"
     ]
    }
   ],
   "source": [
    "data.info()"
   ]
  },
  {
   "cell_type": "markdown",
   "id": "6c2e8858",
   "metadata": {},
   "source": [
    "Menghitung jumlah record dataset"
   ]
  },
  {
   "cell_type": "code",
   "execution_count": 99,
   "id": "101295c7",
   "metadata": {},
   "outputs": [
    {
     "name": "stdout",
     "output_type": "stream",
     "text": [
      "12635\n"
     ]
    }
   ],
   "source": [
    "jumlah_record =pd.read_csv('video_game_rating.csv')\n",
    "print (len(jumlah_record))"
   ]
  },
  {
   "cell_type": "markdown",
   "id": "0fdae337",
   "metadata": {},
   "source": [
    "Menghitung jumlah atribut dataset"
   ]
  },
  {
   "cell_type": "code",
   "execution_count": 34,
   "id": "4bb23124",
   "metadata": {},
   "outputs": [
    {
     "data": {
      "text/plain": [
       "8"
      ]
     },
     "execution_count": 34,
     "metadata": {},
     "output_type": "execute_result"
    }
   ],
   "source": [
    "jumlah_atribut = len(data.columns)\n",
    "jumlah_atribut"
   ]
  },
  {
   "cell_type": "markdown",
   "id": "71bec6ea",
   "metadata": {},
   "source": [
    "Menampilkan nama atribut"
   ]
  },
  {
   "cell_type": "code",
   "execution_count": 133,
   "id": "83072a59",
   "metadata": {},
   "outputs": [
    {
     "data": {
      "text/plain": [
       "8"
      ]
     },
     "execution_count": 133,
     "metadata": {},
     "output_type": "execute_result"
    }
   ],
   "source": [
    "data = pd.read_csv('video_game_rating.csv')\n",
    "nama_atribut =(len(data.columns.values))\n",
    "nama_atribut"
   ]
  },
  {
   "cell_type": "markdown",
   "id": "40f93f56",
   "metadata": {},
   "source": [
    "Menampilkan jumlah atribut dengan tipe object"
   ]
  },
  {
   "cell_type": "code",
   "execution_count": 90,
   "id": "94b2f085",
   "metadata": {},
   "outputs": [
    {
     "data": {
      "text/plain": [
       "6"
      ]
     },
     "execution_count": 90,
     "metadata": {},
     "output_type": "execute_result"
    }
   ],
   "source": [
    "objek = data.select_dtypes(include = ['object'])\n",
    "tipe_objek = len(objek.columns)\n",
    "tipe_objek"
   ]
  },
  {
   "cell_type": "markdown",
   "id": "c3efe2f1",
   "metadata": {},
   "source": [
    "Menampilkan jumlah atribut dengan tipe angka"
   ]
  },
  {
   "cell_type": "code",
   "execution_count": 127,
   "id": "690d407d",
   "metadata": {},
   "outputs": [
    {
     "data": {
      "text/plain": [
       "2"
      ]
     },
     "execution_count": 127,
     "metadata": {},
     "output_type": "execute_result"
    }
   ],
   "source": [
    "angka = data.select_dtypes(include = ['int64'])\n",
    "angka2 = data.select_dtypes(include = ['float64'])\n",
    "tipe_angka1 = len(angka.columns)\n",
    "tipe_angka2 = len(angka2.columns)\n",
    "hasil_angka = tipe_angka1 + tipe_angka2\n",
    "hasil_angka"
   ]
  },
  {
   "cell_type": "markdown",
   "id": "ec6a6e52",
   "metadata": {},
   "source": [
    "Menampilkan jumlah atribut yang memiliki nilai NULL"
   ]
  },
  {
   "cell_type": "code",
   "execution_count": 83,
   "id": "0a4bed74",
   "metadata": {},
   "outputs": [
    {
     "data": {
      "text/plain": [
       "0"
      ]
     },
     "execution_count": 83,
     "metadata": {},
     "output_type": "execute_result"
    }
   ],
   "source": [
    "nvll_tipe = data.isnull().any().sum()\n",
    "nvll_tipe"
   ]
  },
  {
   "cell_type": "markdown",
   "id": "59fbdb3e",
   "metadata": {},
   "source": [
    "Memasukkan informasi ke dalam dictionary"
   ]
  },
  {
   "cell_type": "code",
   "execution_count": 134,
   "id": "5914b0b3",
   "metadata": {},
   "outputs": [
    {
     "name": "stdout",
     "output_type": "stream",
     "text": [
      "{'Jumlah Record': [       Unnamed: 0                                      title  year  \\\n",
      "0               0                     The Last of Us: Part I  2022   \n",
      "1               1                     Red Dead Redemption II  2018   \n",
      "2               2  The Witcher 3: Wild Hunt - Blood and Wine  2016   \n",
      "3               3                   The Witcher 3: Wild Hunt  2015   \n",
      "4               4                             The Last of Us  2013   \n",
      "...           ...                                        ...   ...   \n",
      "12630       12633                                   Superman  1999   \n",
      "12631       12634                                  Action 52  1991   \n",
      "12632       12635                   Plumbers Don't Wear Ties  1994   \n",
      "12633       12636                        Animal Soccer World  2005   \n",
      "12634       12637                                   CrazyBus  2004   \n",
      "\n",
      "                           genre  rating   votes  \\\n",
      "0       Action, Adventure, Drama     9.8     601   \n",
      "1       Action, Adventure, Crime     9.7  36,441   \n",
      "2       Action, Adventure, Drama     9.7   7,610   \n",
      "3       Action, Adventure, Drama     9.7  26,328   \n",
      "4       Action, Adventure, Drama     9.7  61,103   \n",
      "...                          ...     ...     ...   \n",
      "12630  Action, Adventure, Family     1.4     646   \n",
      "12631    Action, Family, Fantasy     1.3     135   \n",
      "12632            Comedy, Romance     1.3     338   \n",
      "12633           Animation, Sport     1.2     125   \n",
      "12634          Adventure, Family     1.0     126   \n",
      "\n",
      "                            directors  \\\n",
      "0      Matthew Gallant, Bruce Straley   \n",
      "1                             Missing   \n",
      "2                Konrad Tomaszkiewicz   \n",
      "3                Konrad Tomaszkiewicz   \n",
      "4       Neil Druckmann, Bruce Straley   \n",
      "...                               ...   \n",
      "12630                         Missing   \n",
      "12631        Raul Gomila, Vince Perri   \n",
      "12632                Michael Anderson   \n",
      "12633                   Roswitha Haas   \n",
      "12634                     Tom Maneiro   \n",
      "\n",
      "                                                    plot  \n",
      "0      Experience the emotional storytelling and unfo...  \n",
      "1      Amidst the decline of the Wild West at the tur...  \n",
      "2      Geralt is in the southern province of Toussain...  \n",
      "3      A monster hunter for hire embarks on an epic j...  \n",
      "4      In a hostile, post-pandemic world, Joel and El...  \n",
      "...                                                  ...  \n",
      "12630  The first 3D Superman game. Your friends Lois ...  \n",
      "12631  Play the action at your fingertips with 52 gam...  \n",
      "12632  John, an unattached plumber, meets and falls i...  \n",
      "12633  Everybody is busy with the preparations for th...  \n",
      "12634  You get to select your bus and drive it across...  \n",
      "\n",
      "[12635 rows x 8 columns]], 'Jumlah Atribut': [8], 'Nama Atribut': [8], 'Kolom Tipe Objek': [6], 'Kolom Tipe Angka': [2], 'Kolom dengan NULL': [0]}\n"
     ]
    }
   ],
   "source": [
    "Dict = {\n",
    "    \"Jumlah Record\"     : [jumlah_record],\n",
    "    \"Jumlah Atribut\"    : [jumlah_atribut],\n",
    "    \"Nama Atribut\"      : [nama_atribut],\n",
    "    \"Kolom Tipe Objek\"  : [tipe_objek],\n",
    "    \"Kolom Tipe Angka\"  : [hasil_angka],\n",
    "    \"Kolom dengan NULL\" : [nvll_tipe]\n",
    "    }\n",
    "print(Dict)"
   ]
  },
  {
   "cell_type": "markdown",
   "id": "b79dd080",
   "metadata": {},
   "source": [
    "Menampilkan rata-rata, standar deviasi, nilai minimum, nilai maksimum, Q1, Q2, dan Q3 dari attribute bertipe angka."
   ]
  },
  {
   "cell_type": "code",
   "execution_count": 121,
   "id": "bf2ca6e8",
   "metadata": {},
   "outputs": [
    {
     "data": {
      "text/html": [
       "<div>\n",
       "<style scoped>\n",
       "    .dataframe tbody tr th:only-of-type {\n",
       "        vertical-align: middle;\n",
       "    }\n",
       "\n",
       "    .dataframe tbody tr th {\n",
       "        vertical-align: top;\n",
       "    }\n",
       "\n",
       "    .dataframe thead th {\n",
       "        text-align: right;\n",
       "    }\n",
       "</style>\n",
       "<table border=\"1\" class=\"dataframe\">\n",
       "  <thead>\n",
       "    <tr style=\"text-align: right;\">\n",
       "      <th></th>\n",
       "      <th>Unnamed: 0</th>\n",
       "      <th>rating</th>\n",
       "    </tr>\n",
       "  </thead>\n",
       "  <tbody>\n",
       "    <tr>\n",
       "      <th>count</th>\n",
       "      <td>12635.000000</td>\n",
       "      <td>12635.000000</td>\n",
       "    </tr>\n",
       "    <tr>\n",
       "      <th>mean</th>\n",
       "      <td>6317.319747</td>\n",
       "      <td>6.945105</td>\n",
       "    </tr>\n",
       "    <tr>\n",
       "      <th>std</th>\n",
       "      <td>3648.018413</td>\n",
       "      <td>1.254719</td>\n",
       "    </tr>\n",
       "    <tr>\n",
       "      <th>min</th>\n",
       "      <td>0.000000</td>\n",
       "      <td>1.000000</td>\n",
       "    </tr>\n",
       "    <tr>\n",
       "      <th>25%</th>\n",
       "      <td>3158.500000</td>\n",
       "      <td>6.300000</td>\n",
       "    </tr>\n",
       "    <tr>\n",
       "      <th>50%</th>\n",
       "      <td>6317.000000</td>\n",
       "      <td>7.200000</td>\n",
       "    </tr>\n",
       "    <tr>\n",
       "      <th>75%</th>\n",
       "      <td>9475.500000</td>\n",
       "      <td>7.800000</td>\n",
       "    </tr>\n",
       "    <tr>\n",
       "      <th>max</th>\n",
       "      <td>12637.000000</td>\n",
       "      <td>9.800000</td>\n",
       "    </tr>\n",
       "  </tbody>\n",
       "</table>\n",
       "</div>"
      ],
      "text/plain": [
       "         Unnamed: 0        rating\n",
       "count  12635.000000  12635.000000\n",
       "mean    6317.319747      6.945105\n",
       "std     3648.018413      1.254719\n",
       "min        0.000000      1.000000\n",
       "25%     3158.500000      6.300000\n",
       "50%     6317.000000      7.200000\n",
       "75%     9475.500000      7.800000\n",
       "max    12637.000000      9.800000"
      ]
     },
     "execution_count": 121,
     "metadata": {},
     "output_type": "execute_result"
    }
   ],
   "source": [
    "data.describe()"
   ]
  },
  {
   "cell_type": "markdown",
   "id": "8e051f60",
   "metadata": {},
   "source": [
    "Menampilkan nilai korelasi"
   ]
  },
  {
   "cell_type": "code",
   "execution_count": 135,
   "id": "1d06b7f9",
   "metadata": {},
   "outputs": [
    {
     "data": {
      "text/html": [
       "<div>\n",
       "<style scoped>\n",
       "    .dataframe tbody tr th:only-of-type {\n",
       "        vertical-align: middle;\n",
       "    }\n",
       "\n",
       "    .dataframe tbody tr th {\n",
       "        vertical-align: top;\n",
       "    }\n",
       "\n",
       "    .dataframe thead th {\n",
       "        text-align: right;\n",
       "    }\n",
       "</style>\n",
       "<table border=\"1\" class=\"dataframe\">\n",
       "  <thead>\n",
       "    <tr style=\"text-align: right;\">\n",
       "      <th></th>\n",
       "      <th>Unnamed: 0</th>\n",
       "      <th>rating</th>\n",
       "    </tr>\n",
       "  </thead>\n",
       "  <tbody>\n",
       "    <tr>\n",
       "      <th>Unnamed: 0</th>\n",
       "      <td>1.000000</td>\n",
       "      <td>-0.932981</td>\n",
       "    </tr>\n",
       "    <tr>\n",
       "      <th>rating</th>\n",
       "      <td>-0.932981</td>\n",
       "      <td>1.000000</td>\n",
       "    </tr>\n",
       "  </tbody>\n",
       "</table>\n",
       "</div>"
      ],
      "text/plain": [
       "            Unnamed: 0    rating\n",
       "Unnamed: 0    1.000000 -0.932981\n",
       "rating       -0.932981  1.000000"
      ]
     },
     "execution_count": 135,
     "metadata": {},
     "output_type": "execute_result"
    }
   ],
   "source": [
    "data.corr()"
   ]
  },
  {
   "cell_type": "markdown",
   "id": "bb20a052",
   "metadata": {},
   "source": [
    "Merubah atribut bertipe angka menjadi desimal"
   ]
  },
  {
   "cell_type": "code",
   "execution_count": 145,
   "id": "c1d92f27",
   "metadata": {},
   "outputs": [
    {
     "data": {
      "text/plain": [
       "0         0.000\n",
       "1         0.001\n",
       "2         0.002\n",
       "3         0.003\n",
       "4         0.004\n",
       "          ...  \n",
       "12630    12.633\n",
       "12631    12.634\n",
       "12632    12.635\n",
       "12633    12.636\n",
       "12634    12.637\n",
       "Name: Unnamed: 0, Length: 12635, dtype: float64"
      ]
     },
     "execution_count": 145,
     "metadata": {},
     "output_type": "execute_result"
    }
   ],
   "source": [
    "data['Unnamed: 0']*0.001"
   ]
  },
  {
   "cell_type": "markdown",
   "id": "b1bdd655",
   "metadata": {},
   "source": [
    "Menampilkan 10 record pertama dari atribut bertipe angka"
   ]
  },
  {
   "cell_type": "code",
   "execution_count": 141,
   "id": "e354d40b",
   "metadata": {},
   "outputs": [
    {
     "data": {
      "text/html": [
       "<div>\n",
       "<style scoped>\n",
       "    .dataframe tbody tr th:only-of-type {\n",
       "        vertical-align: middle;\n",
       "    }\n",
       "\n",
       "    .dataframe tbody tr th {\n",
       "        vertical-align: top;\n",
       "    }\n",
       "\n",
       "    .dataframe thead th {\n",
       "        text-align: right;\n",
       "    }\n",
       "</style>\n",
       "<table border=\"1\" class=\"dataframe\">\n",
       "  <thead>\n",
       "    <tr style=\"text-align: right;\">\n",
       "      <th></th>\n",
       "      <th>Unnamed: 0</th>\n",
       "      <th>rating</th>\n",
       "    </tr>\n",
       "  </thead>\n",
       "  <tbody>\n",
       "    <tr>\n",
       "      <th>0</th>\n",
       "      <td>0</td>\n",
       "      <td>9.8</td>\n",
       "    </tr>\n",
       "    <tr>\n",
       "      <th>1</th>\n",
       "      <td>1</td>\n",
       "      <td>9.7</td>\n",
       "    </tr>\n",
       "    <tr>\n",
       "      <th>2</th>\n",
       "      <td>2</td>\n",
       "      <td>9.7</td>\n",
       "    </tr>\n",
       "    <tr>\n",
       "      <th>3</th>\n",
       "      <td>3</td>\n",
       "      <td>9.7</td>\n",
       "    </tr>\n",
       "    <tr>\n",
       "      <th>4</th>\n",
       "      <td>4</td>\n",
       "      <td>9.7</td>\n",
       "    </tr>\n",
       "    <tr>\n",
       "      <th>5</th>\n",
       "      <td>5</td>\n",
       "      <td>9.7</td>\n",
       "    </tr>\n",
       "    <tr>\n",
       "      <th>6</th>\n",
       "      <td>6</td>\n",
       "      <td>9.6</td>\n",
       "    </tr>\n",
       "    <tr>\n",
       "      <th>7</th>\n",
       "      <td>7</td>\n",
       "      <td>9.6</td>\n",
       "    </tr>\n",
       "    <tr>\n",
       "      <th>8</th>\n",
       "      <td>8</td>\n",
       "      <td>9.6</td>\n",
       "    </tr>\n",
       "    <tr>\n",
       "      <th>9</th>\n",
       "      <td>9</td>\n",
       "      <td>9.6</td>\n",
       "    </tr>\n",
       "  </tbody>\n",
       "</table>\n",
       "</div>"
      ],
      "text/plain": [
       "   Unnamed: 0  rating\n",
       "0           0     9.8\n",
       "1           1     9.7\n",
       "2           2     9.7\n",
       "3           3     9.7\n",
       "4           4     9.7\n",
       "5           5     9.7\n",
       "6           6     9.6\n",
       "7           7     9.6\n",
       "8           8     9.6\n",
       "9           9     9.6"
      ]
     },
     "execution_count": 141,
     "metadata": {},
     "output_type": "execute_result"
    }
   ],
   "source": [
    "dataset_angka = data[['Unnamed: 0', 'rating']]\n",
    "dataset_angka.head(10)"
   ]
  },
  {
   "cell_type": "markdown",
   "id": "92d4a85f",
   "metadata": {},
   "source": [
    "Menyimpan dataset atribut bertipe angka ke file csv"
   ]
  },
  {
   "cell_type": "code",
   "execution_count": 142,
   "id": "5027f83d",
   "metadata": {},
   "outputs": [],
   "source": [
    "dataset_angka.to_csv('videogamerating.csv')"
   ]
  },
  {
   "cell_type": "code",
   "execution_count": null,
   "id": "767644ed",
   "metadata": {},
   "outputs": [],
   "source": []
  }
 ],
 "metadata": {
  "kernelspec": {
   "display_name": "Python 3 (ipykernel)",
   "language": "python",
   "name": "python3"
  },
  "language_info": {
   "codemirror_mode": {
    "name": "ipython",
    "version": 3
   },
   "file_extension": ".py",
   "mimetype": "text/x-python",
   "name": "python",
   "nbconvert_exporter": "python",
   "pygments_lexer": "ipython3",
   "version": "3.10.4"
  }
 },
 "nbformat": 4,
 "nbformat_minor": 5
}
